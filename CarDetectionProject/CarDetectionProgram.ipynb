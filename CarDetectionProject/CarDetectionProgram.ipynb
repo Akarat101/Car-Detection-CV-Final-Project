{
 "cells": [
  {
   "cell_type": "markdown",
   "id": "0732fc23",
   "metadata": {},
   "source": [
    "# Car Detection"
   ]
  },
  {
   "cell_type": "markdown",
   "id": "4247f52d",
   "metadata": {},
   "source": [
    "Import Libraries"
   ]
  },
  {
   "cell_type": "code",
   "execution_count": 107,
   "id": "f8ce496f",
   "metadata": {},
   "outputs": [],
   "source": [
    "import cv2\n",
    "import numpy as np"
   ]
  },
  {
   "cell_type": "markdown",
   "id": "bb3f4284",
   "metadata": {},
   "source": [
    "Function for Selecting Region of Interest by dragging mouse"
   ]
  },
  {
   "cell_type": "code",
   "execution_count": 108,
   "id": "82af6e5a",
   "metadata": {},
   "outputs": [],
   "source": [
    "def select_roi(event, x, y, flags, param):\n",
    "    global selecting_roi, roi_selected, roi\n",
    "\n",
    "    if event == cv2.EVENT_LBUTTONDOWN:\n",
    "        roi = (x, y)\n",
    "        selecting_roi = True\n",
    "    elif event == cv2.EVENT_MOUSEMOVE:\n",
    "        if selecting_roi:\n",
    "            roi = (roi[0], roi[1], x - roi[0], y - roi[1])\n",
    "    elif event == cv2.EVENT_LBUTTONUP:\n",
    "        roi = (roi[0], roi[1], x - roi[0], y - roi[1])\n",
    "        selecting_roi = False\n",
    "        roi_selected = True"
   ]
  },
  {
   "cell_type": "markdown",
   "id": "24df545f",
   "metadata": {},
   "source": [
    "Path to video"
   ]
  },
  {
   "cell_type": "code",
   "execution_count": 109,
   "id": "8d1eac86",
   "metadata": {},
   "outputs": [],
   "source": [
    "video_path = r'[INSER PATH HERE]'"
   ]
  },
  {
   "cell_type": "markdown",
   "id": "9613eaa8",
   "metadata": {},
   "source": [
    "Video detection parameters"
   ]
  },
  {
   "cell_type": "code",
   "execution_count": 110,
   "id": "0fbccdca",
   "metadata": {},
   "outputs": [],
   "source": [
    "#Minimum HSV Change\n",
    "hue_threshold = 100\n",
    "saturation_threshold = 140\n",
    "value_threshold = 30\n",
    "\n",
    "#Size of Object\n",
    "min_contour_area = 1000\n",
    "max_contour_area = 50000\n",
    "\n",
    "#Noise Removal Parameter\n",
    "erosion_kernel = np.ones((1, 1), np.uint8)\n",
    "erosion_iteration = 1\n",
    "opening_kernel = np.ones((1, 1), np.uint8)"
   ]
  },
  {
   "cell_type": "markdown",
   "id": "649a082c",
   "metadata": {},
   "source": [
    "Initial window to choose Region of Interest"
   ]
  },
  {
   "cell_type": "code",
   "execution_count": 111,
   "id": "ff6d2066",
   "metadata": {},
   "outputs": [],
   "source": [
    "#Initialize the video window with the file path\n",
    "cap = cv2.VideoCapture(video_path)\n",
    "\n",
    "#Object to check if Region of Interest window is still being chosen\n",
    "selecting_roi = False\n",
    "roi_selected = False\n",
    "roi = None\n",
    "\n",
    "#Capture the first frame of the video for Region of Interest window\n",
    "ret, frame = cap.read()\n",
    "\n",
    "# Convert the first frame to HSV\n",
    "hsv_frame = cv2.cvtColor(frame, cv2.COLOR_BGR2HSV)\n",
    "\n",
    "# Extract the background hue from the first frame\n",
    "background_hue = hsv_frame[:, :, 0]\n",
    "\n",
    "#Create selection window\n",
    "cv2.namedWindow('Select ROI')\n",
    "\n",
    "#Set mouse to be use as a selector using the function\n",
    "cv2.setMouseCallback('Select ROI', select_roi)\n",
    "\n",
    "#Close the window if Region of Interest is chosen/'q' pressed\n",
    "while not roi_selected:\n",
    "    cv2.imshow('Select ROI', frame)\n",
    "    if cv2.waitKey(1) & 0xFF == ord('q'):\n",
    "        break\n",
    "cv2.destroyWindow('Select ROI')"
   ]
  },
  {
   "cell_type": "markdown",
   "id": "959f1c1f",
   "metadata": {},
   "source": [
    "Detection process"
   ]
  },
  {
   "cell_type": "code",
   "execution_count": 112,
   "id": "0d27f5b8",
   "metadata": {},
   "outputs": [],
   "source": [
    "#Background subtraction using CV2\n",
    "fgbg = cv2.createBackgroundSubtractorMOG2()\n",
    "\n",
    "#Initialize Car Count/Detected\n",
    "object_detected = False\n",
    "object_count = 0\n",
    "object_passed = False\n",
    "\n",
    "#Initialize centroid of object detection\n",
    "object_centroid = None\n",
    "\n",
    "#Detection Process\n",
    "while True:\n",
    "    #Read a frame from the video\n",
    "    ret, frame = cap.read()\n",
    "    \n",
    "    #Break if the frame is not available\n",
    "    if not ret:\n",
    "        break\n",
    "        \n",
    "    #Draw a square border around the Region of Interest\n",
    "    cv2.rectangle(frame, (roi[0], roi[1]), (roi[0] + roi[2], roi[1] + roi[3]), (255, 0, 0), 2)\n",
    "    \n",
    "    #Display the object count\n",
    "    cv2.putText(frame, f'Vehicles passed: {object_count}', (10, 30), cv2.FONT_HERSHEY_SIMPLEX, 1, (0, 0, 255), 2)\n",
    "\n",
    "    #Aply the background subtractor to detect moving objects\n",
    "    fgmask = fgbg.apply(frame)\n",
    "    \n",
    "    #Covert the frame into HSV\n",
    "    hsv_frame = cv2.cvtColor(frame, cv2.COLOR_BGR2HSV)\n",
    "    \n",
    "    #Calculate the absolute difference to see changes\n",
    "    diff = cv2.absdiff(hsv_frame[:,:,0], background_hue)\n",
    "    \n",
    "    #HSV tolerance detection\n",
    "    hue_mask = cv2.inRange(diff, 0, hue_threshold)\n",
    "    saturation_mask = cv2.inRange(hsv_frame[:,:,1], 0, saturation_threshold)\n",
    "    value_mask = cv2.inRange(hsv_frame[:,:,2], 0, value_threshold)\n",
    "    \n",
    "    #Combine all mask\n",
    "    mask = cv2.bitwise_or(cv2.bitwise_or(hue_mask, saturation_mask), value_mask)\n",
    "    \n",
    "    #Remove background noises\n",
    "    mask = cv2.erode(mask, erosion_kernel, iterations = erosion_iteration)\n",
    "    mask = cv2.morphologyEx(mask, cv2.MORPH_OPEN, opening_kernel)\n",
    "    \n",
    "    #Apply the mask to the foreground\n",
    "    fgmask = cv2.bitwise_and(fgmask, mask)\n",
    "    \n",
    "    #Find contours in the mask\n",
    "    contours, _ = cv2.findContours(fgmask, cv2.RETR_EXTERNAL, cv2.CHAIN_APPROX_SIMPLE)\n",
    "\n",
    "    #Draw square in contour with appropriate area if it is in Region of Interest\n",
    "    for contour in contours:\n",
    "        area = cv2.contourArea(contour)\n",
    "        if min_contour_area < area < max_contour_area:\n",
    "            x, y, w, h = cv2.boundingRect(contour)\n",
    "            if x > roi[0] and y > roi[1] and x + w < roi[0] + roi[2] and y + h < roi[1] + roi[3]:\n",
    "                cv2.rectangle(frame, (x, y), (x + w, y + h), (0, 255, 0), 2)\n",
    "                #Create a centriod in the marked rectangle\n",
    "                centroid_x = x + w // 2\n",
    "                centroid_y = y + h // 2\n",
    "                object_centroid = (centroid_x, centroid_y)\n",
    "                #Visualize the centroid\n",
    "                cv2.circle(frame, object_centroid, 10, (255, 0, 255), -1)\n",
    "\n",
    "    #Check if the object centriod passed through the Region of Interest\n",
    "    if object_centroid is not None and object_centroid[1] < roi[1] + roi[3] // 2 and not object_passed:\n",
    "        object_count += 1\n",
    "        object_passed = True\n",
    "    elif object_centroid is not None and object_centroid[1] > roi[1] + roi[3] // 2:\n",
    "        object_passed = False\n",
    "    \n",
    "    #Resize detection frame and the video to fit the window\n",
    "    resized_frame = cv2.resize(frame, (frame.shape[1] // 2, frame.shape[0] // 2))\n",
    "    resized_fgmask = cv2.resize(fgmask, (fgmask.shape[1] // 2, fgmask.shape[0] // 2))\n",
    "    _, binary_fgmask = cv2.threshold(resized_fgmask, 1, 255, cv2.THRESH_BINARY)\n",
    "    binary_fgmask = cv2.cvtColor(binary_fgmask, cv2.COLOR_GRAY2BGR)\n",
    "    output_frame = np.hstack((resized_frame, binary_fgmask))\n",
    "\n",
    "    #Display the results\n",
    "    cv2.imshow('Original vs Detected Objects', output_frame)\n",
    "    \n",
    "    #Stop if 'q' is pressed\n",
    "    if cv2.waitKey(1) & 0xFF == ord('q'):\n",
    "        break\n",
    "\n",
    "#Close window and end code\n",
    "cap.release()\n",
    "cv2.destroyAllWindows()"
   ]
  }
 ],
 "metadata": {
  "kernelspec": {
   "display_name": "Python 3 (ipykernel)",
   "language": "python",
   "name": "python3"
  },
  "language_info": {
   "codemirror_mode": {
    "name": "ipython",
    "version": 3
   },
   "file_extension": ".py",
   "mimetype": "text/x-python",
   "name": "python",
   "nbconvert_exporter": "python",
   "pygments_lexer": "ipython3",
   "version": "3.9.13"
  }
 },
 "nbformat": 4,
 "nbformat_minor": 5
}
